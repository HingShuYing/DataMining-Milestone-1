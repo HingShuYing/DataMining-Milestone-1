{
 "cells": [
  {
   "cell_type": "code",
   "execution_count": 2,
   "metadata": {},
   "outputs": [],
   "source": [
    "import pandas as pd\n",
    "from bs4 import BeautifulSoup as soup\n",
    "import requests\n",
    "import numpy as np"
   ]
  },
  {
   "cell_type": "code",
   "execution_count": 4,
   "metadata": {},
   "outputs": [],
   "source": [
    "dateTimeList = ['20200316','20200315','20200314']"
   ]
  },
  {
   "cell_type": "code",
   "execution_count": 5,
   "metadata": {},
   "outputs": [],
   "source": [
    "def crawlDataByUrl(the_url):\n",
    "    arrays = []\n",
    "    array1 = []\n",
    "    array2 = []\n",
    "    htmlcontent = requests.get(the_url)\n",
    "    soup1 = soup(htmlcontent.content, 'html.parser')\n",
    "    # print(soup1.prettify())\n",
    "    # print(htmlcontent)\n",
    "    title = soup1.find_all('h2', {'id': 'wt-his-title'})\n",
    "    title = title[0].get_text()\n",
    "    # print(title)"
   ]
  },
  {
   "cell_type": "code",
   "execution_count": 8,
   "metadata": {},
   "outputs": [
    {
     "ename": "IndentationError",
     "evalue": "unexpected indent (<ipython-input-8-89dba10ccef9>, line 2)",
     "output_type": "error",
     "traceback": [
      "\u001b[1;36m  File \u001b[1;32m\"<ipython-input-8-89dba10ccef9>\"\u001b[1;36m, line \u001b[1;32m2\u001b[0m\n\u001b[1;33m    array2.append('Date')\u001b[0m\n\u001b[1;37m    ^\u001b[0m\n\u001b[1;31mIndentationError\u001b[0m\u001b[1;31m:\u001b[0m unexpected indent\n"
     ]
    }
   ],
   "source": [
    "tables = soup1.find('table', id=\"wt-his\")\n",
    "    array2.append('Date')\n",
    "    number = 1\n",
    "    index = 0\n",
    "    for tableRows in tables.find_all('tr'):\n",
    "        skipTextList = ['&nbsp', ' ']\n",
    "        if index == 0:\n",
    "            print(\"skip the rowspan header\")\n",
    "        elif index == 1:\n",
    "            headers = tableRows.find_all('th')\n",
    "            for header in headers:\n",
    "                headerText = header.get_text()\n",
    "                headerSpacing = header.get_text().replace(u'%', u'% ').replace(u'  ', u'').replace(u'\\xa0mm', u'').replace(u'\\t', u'').replace(u'\\n', u'').replace(u'\\r', u'').replace(u'\\xa0mb', u'').replace(u'\\xa0km/h', u'').replace(u'\\xa0', u' ')\n",
    "                array2.append(headerSpacing)\n",
    "        else:\n",
    "            headers = tableRows.find_all('th')\n",
    "            records = tableRows.find_all('td')\n",
    "            for header in headers:\n",
    "                headerText = header.get_text()\n",
    "                headerSpacing = headerText.replace(u'%', u'% ').replace(u'  ', u'').replace(u'\\xa0mm', u'').replace(u'\\t', u'').replace(u'\\n', u'').replace(u'\\r', u'').replace(u'\\xa0mb', u'').replace(u'\\xa0km/h', u'').replace(u'\\xa0', u' ')\n",
    "\n",
    "                splitDateList = headerSpacing.split(\".\")\n",
    "                array1.append(splitDateList[1])\n",
    "                array1.append(splitDateList[0])\n",
    "\n",
    "            for record in records:\n",
    "                recordText = record.get_text()\n",
    "                recordSpacing = recordText.replace(u'%', u'% ').replace(u'  ', u'').replace(u'\\xa0mm', u'').replace(u'\\t', u'').replace(u'\\n', u'').replace(u'\\r', u'').replace(u'\\xa0mb', u'').replace(u'\\xa0km/h', u'').replace(u'\\xa0', u' ')\n",
    "                array1.append(recordSpacing)\n",
    "                if number == 8:\n",
    "                    arrays.append(array1)\n",
    "                    array1 = []\n",
    "                    number = 0\n",
    "                number += 1\n",
    "        index += 1"
   ]
  },
  {
   "cell_type": "code",
   "execution_count": 7,
   "metadata": {},
   "outputs": [
    {
     "ename": "IndentationError",
     "evalue": "unexpected indent (<ipython-input-7-83dec644520a>, line 2)",
     "output_type": "error",
     "traceback": [
      "\u001b[1;36m  File \u001b[1;32m\"<ipython-input-7-83dec644520a>\"\u001b[1;36m, line \u001b[1;32m2\u001b[0m\n\u001b[1;33m    arrays2 = np.array(array2)\u001b[0m\n\u001b[1;37m    ^\u001b[0m\n\u001b[1;31mIndentationError\u001b[0m\u001b[1;31m:\u001b[0m unexpected indent\n"
     ]
    }
   ],
   "source": [
    " arrays = np.array(arrays)\n",
    "    arrays2 = np.array(array2)"
   ]
  },
  {
   "cell_type": "code",
   "execution_count": 9,
   "metadata": {},
   "outputs": [
    {
     "ename": "IndentationError",
     "evalue": "unexpected indent (<ipython-input-9-6fddbfba113c>, line 5)",
     "output_type": "error",
     "traceback": [
      "\u001b[1;36m  File \u001b[1;32m\"<ipython-input-9-6fddbfba113c>\"\u001b[1;36m, line \u001b[1;32m5\u001b[0m\n\u001b[1;33m    return dataset\u001b[0m\n\u001b[1;37m    ^\u001b[0m\n\u001b[1;31mIndentationError\u001b[0m\u001b[1;31m:\u001b[0m unexpected indent\n"
     ]
    }
   ],
   "source": [
    " dataset = pd.DataFrame({arrays2[0]: arrays[:, 0], arrays2[1]: arrays[:, 1], arrays2[2]: arrays[:, 2],\n",
    "                            arrays2[3]: arrays[:, 3], arrays2[4]: arrays[:, 4], arrays2[5]: arrays[:, 5],\n",
    "                            arrays2[6]: arrays[:, 6], arrays2[7]: arrays[:, 7], arrays2[8]: arrays[:, 8],\n",
    "                            arrays2[9]: arrays[:, 9]})\n",
    "    return dataset"
   ]
  },
  {
   "cell_type": "code",
   "execution_count": 10,
   "metadata": {},
   "outputs": [
    {
     "name": "stdout",
     "output_type": "stream",
     "text": [
      "20200316\n",
      "None\n",
      "20200315\n",
      "None\n",
      "20200314\n",
      "None\n"
     ]
    }
   ],
   "source": [
    "for x in dateTimeList:\n",
    "    print(x);\n",
    "    dataset = crawlDataByUrl('https://www.timeanddate.com/weather/malaysia/kuala-lumpur/historic?' + x)\n",
    "    print(dataset)"
   ]
  },
  {
   "cell_type": "code",
   "execution_count": null,
   "metadata": {},
   "outputs": [],
   "source": [
    "dataset\n",
    "dataset.to_csv(\"WQD7005_Temperature.csv\", index=False)"
   ]
  }
 ],
 "metadata": {
  "kernelspec": {
   "display_name": "Python 3",
   "language": "python",
   "name": "python3"
  },
  "language_info": {
   "codemirror_mode": {
    "name": "ipython",
    "version": 3
   },
   "file_extension": ".py",
   "mimetype": "text/x-python",
   "name": "python",
   "nbconvert_exporter": "python",
   "pygments_lexer": "ipython3",
   "version": "3.7.4"
  }
 },
 "nbformat": 4,
 "nbformat_minor": 2
}
